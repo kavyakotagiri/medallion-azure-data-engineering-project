{
 "cells": [
  {
   "cell_type": "code",
   "execution_count": 0,
   "metadata": {
    "application/vnd.databricks.v1+cell": {
     "cellMetadata": {
      "byteLimit": 2048000,
      "rowLimit": 10000
     },
     "inputWidgets": {},
     "nuid": "2eee5105-33b2-4adb-a9a8-158421cfb5c7",
     "showTitle": false,
     "title": ""
    }
   },
   "outputs": [
    {
     "output_type": "execute_result",
     "data": {
      "text/plain": [
       "[FileInfo(path='dbfs:/mnt/silver/SalesLT/Address/', name='Address/', size=0, modificationTime=1708786765000),\n",
       " FileInfo(path='dbfs:/mnt/silver/SalesLT/Customer/', name='Customer/', size=0, modificationTime=1708786776000),\n",
       " FileInfo(path='dbfs:/mnt/silver/SalesLT/CustomerAddress/', name='CustomerAddress/', size=0, modificationTime=1708786780000),\n",
       " FileInfo(path='dbfs:/mnt/silver/SalesLT/Product/', name='Product/', size=0, modificationTime=1708786783000),\n",
       " FileInfo(path='dbfs:/mnt/silver/SalesLT/ProductCategory/', name='ProductCategory/', size=0, modificationTime=1708786786000),\n",
       " FileInfo(path='dbfs:/mnt/silver/SalesLT/ProductDescription/', name='ProductDescription/', size=0, modificationTime=1708786788000),\n",
       " FileInfo(path='dbfs:/mnt/silver/SalesLT/ProductModel/', name='ProductModel/', size=0, modificationTime=1708786791000),\n",
       " FileInfo(path='dbfs:/mnt/silver/SalesLT/ProductModelProductDescription/', name='ProductModelProductDescription/', size=0, modificationTime=1708786793000),\n",
       " FileInfo(path='dbfs:/mnt/silver/SalesLT/SalesOrderDetail/', name='SalesOrderDetail/', size=0, modificationTime=1708786795000),\n",
       " FileInfo(path='dbfs:/mnt/silver/SalesLT/SalesOrderHeader/', name='SalesOrderHeader/', size=0, modificationTime=1708786798000)]"
      ]
     },
     "execution_count": 1,
     "metadata": {},
     "output_type": "execute_result"
    }
   ],
   "source": [
    "dbutils.fs.ls('/mnt/silver/SalesLT')"
   ]
  },
  {
   "cell_type": "code",
   "execution_count": 0,
   "metadata": {
    "application/vnd.databricks.v1+cell": {
     "cellMetadata": {
      "byteLimit": 2048000,
      "rowLimit": 10000
     },
     "inputWidgets": {},
     "nuid": "c457afb6-a1af-4f27-9ab0-9ea87e69a75e",
     "showTitle": false,
     "title": ""
    }
   },
   "outputs": [
    {
     "output_type": "execute_result",
     "data": {
      "text/plain": [
       "[]"
      ]
     },
     "execution_count": 2,
     "metadata": {},
     "output_type": "execute_result"
    }
   ],
   "source": [
    "dbutils.fs.ls('/mnt/gold/')"
   ]
  },
  {
   "cell_type": "markdown",
   "metadata": {
    "application/vnd.databricks.v1+cell": {
     "cellMetadata": {},
     "inputWidgets": {},
     "nuid": "7f351fd1-9d4c-457c-831d-358cdba82c89",
     "showTitle": false,
     "title": ""
    }
   },
   "source": [
    "## Doing transformation for all tables (Changing column names)"
   ]
  },
  {
   "cell_type": "code",
   "execution_count": 0,
   "metadata": {
    "application/vnd.databricks.v1+cell": {
     "cellMetadata": {
      "byteLimit": 2048000,
      "rowLimit": 10000
     },
     "inputWidgets": {},
     "nuid": "9f3e0ab3-e6a4-4d5a-84b7-b10b5cfe1c9f",
     "showTitle": false,
     "title": ""
    }
   },
   "outputs": [],
   "source": [
    "from pyspark.sql.functions import from_utc_timestamp, date_format\n",
    "from pyspark.sql.types import TimestampType\n",
    "\n",
    "table_name = []\n",
    "\n",
    "for i in dbutils.fs.ls('/mnt/silver/SalesLT/'):\n",
    "    table_name.append(i.name.split('/')[0])"
   ]
  },
  {
   "cell_type": "code",
   "execution_count": 0,
   "metadata": {
    "application/vnd.databricks.v1+cell": {
     "cellMetadata": {
      "byteLimit": 2048000,
      "rowLimit": 10000
     },
     "inputWidgets": {},
     "nuid": "b1652e60-c521-4c9c-be06-7039952bb550",
     "showTitle": false,
     "title": ""
    }
   },
   "outputs": [
    {
     "output_type": "stream",
     "name": "stdout",
     "output_type": "stream",
     "text": [
      "/mnt/silver/SalesLT/Address\n/mnt/silver/SalesLT/Customer\n/mnt/silver/SalesLT/CustomerAddress\n/mnt/silver/SalesLT/Product\n/mnt/silver/SalesLT/ProductCategory\n/mnt/silver/SalesLT/ProductDescription\n/mnt/silver/SalesLT/ProductModel\n/mnt/silver/SalesLT/ProductModelProductDescription\n/mnt/silver/SalesLT/SalesOrderDetail\n/mnt/silver/SalesLT/SalesOrderHeader\n"
     ]
    }
   ],
   "source": [
    "for name in table_name:\n",
    "    path = '/mnt/silver/SalesLT/'+name \n",
    "    print(path)\n",
    "    df = spark.read.format('delta').load(path)\n",
    "\n",
    "    column_names = df.columns\n",
    "\n",
    "    for old_col_name in column_names:\n",
    "\n",
    "        new_col_name = \"\".join([\"_\"+ char if char.isupper() and not old_col_name[i-1].isupper() else char for i, char in enumerate(old_col_name)]).lstrip(\"_\")\n",
    "\n",
    "        df = df.withColumnRenamed(old_col_name,new_col_name)\n",
    "\n",
    "    output_path = '/mnt/gold/SalesLT/'+name+'/'\n",
    "    df.write.format('delta').mode(\"overwrite\").save(output_path)"
   ]
  }
 ],
 "metadata": {
  "application/vnd.databricks.v1+notebook": {
   "dashboards": [],
   "language": "python",
   "notebookMetadata": {
    "pythonIndentUnit": 4
   },
   "notebookName": "silver to gold",
   "widgets": {}
  }
 },
 "nbformat": 4,
 "nbformat_minor": 0
}
